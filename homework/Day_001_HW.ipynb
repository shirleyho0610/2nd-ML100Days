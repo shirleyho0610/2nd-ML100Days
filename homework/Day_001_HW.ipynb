{
 "cells": [
  {
   "cell_type": "markdown",
   "metadata": {},
   "source": [
    "## 作業1\n",
    "### 選擇的dataset: Google Landmark Retrieval 2019\n",
    "\n",
    "### 1. 你選的這組資料為何重要?\n",
    "  * 該組資料內有世界上各地重要景點的照片，資料內容為照片及各景點的id，透過大量圖片的訓練可以讓我們輸入一張自己的圖片後得知照片中是什麼景點。\n",
    "\n",
    "### 2. 資料從何而來 (tips: 譬如提供者是誰、以什麼方式蒐集)\n",
    "  * 這組資料來自於 \"H. Noh, A. Araujo, J. Sim, T. Weyand, B. Han, \"Large-Scale Image Retrieval with Attentive Deep Local Features\",  Proc. ICCV'1\" 此篇論文所收集，大多數得圖片是從google圖片搜尋該地名，並拿小或中尺寸的圖片作為資料，\n",
    "   \n",
    "### 3. 蒐集而來的資料型態為何\n",
    "  * 資料內容為圖片連結及id，資料格式為csv檔，id及圖片url皆為string\n",
    "   \n",
    "### 4. 這組資料想解決的問題如何評估\n",
    "  * 該資料分為training data及test data，透過training data訓練後，再以test data驗證結果。"
   ]
  },
  {
   "cell_type": "markdown",
   "metadata": {},
   "source": [
    "## 作業2\n",
    "### 想像你經營一個自由載客車隊，你希望能透過數據分析以提升業績，請你思考並描述你如何規劃整體的分析/解決方案：\n",
    "\n",
    "### 1. 核心問題為何 (tips：如何定義 「提升業績 & 你的假設」)\n",
    "* 提升業績最主要就是增加利潤，也就是盡量降低成本以及提高收入，降低成本可透過合理的人力(車輛)分配，而提高收入則可透過載客時間、距離及油價去做平衡\n",
    "\n",
    "### 2. 資料從何而來 (tips：哪些資料可能會對你想問的問題產生影響 & 資料如何蒐集)\n",
    "* 資料可從過去的紀錄找出那些地方是密集需要車輛的，以及每個地方搭乘的距離遠近去找是否有特定的特徵，搭乘人數(車輛大小)也是可以考量的部分\n",
    "\n",
    "### 3. 蒐集而來的資料型態為何\n",
    "* 資料格式可以為csv或json檔等較常見的格式\n",
    "\n",
    "### 4. 你要回答的問題，其如何評估 (tips：你的假設如何驗證)\n",
    "* 可根據過去的資料抽取部分作行為模擬，看其成效。"
   ]
  },
  {
   "cell_type": "markdown",
   "metadata": {},
   "source": [
    "## 作業三"
   ]
  },
  {
   "cell_type": "code",
   "execution_count": 2,
   "metadata": {},
   "outputs": [],
   "source": [
    "def mean_squared_error(y, yp):\n",
    "    mse = sum((y -yp)**2) / len(y)\n",
    "    return mse"
   ]
  },
  {
   "cell_type": "code",
   "execution_count": null,
   "metadata": {},
   "outputs": [],
   "source": []
  }
 ],
 "metadata": {
  "kernelspec": {
   "display_name": "Python 3",
   "language": "python",
   "name": "python3"
  },
  "language_info": {
   "codemirror_mode": {
    "name": "ipython",
    "version": 3
   },
   "file_extension": ".py",
   "mimetype": "text/x-python",
   "name": "python",
   "nbconvert_exporter": "python",
   "pygments_lexer": "ipython3",
   "version": "3.6.5"
  }
 },
 "nbformat": 4,
 "nbformat_minor": 2
}
